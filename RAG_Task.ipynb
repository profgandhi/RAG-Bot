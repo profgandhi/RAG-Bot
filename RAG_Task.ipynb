{
  "nbformat": 4,
  "nbformat_minor": 0,
  "metadata": {
    "colab": {
      "provenance": [],
      "gpuType": "T4"
    },
    "kernelspec": {
      "name": "python3",
      "display_name": "Python 3"
    },
    "language_info": {
      "name": "python"
    },
    "accelerator": "GPU"
  },
  "cells": [
    {
      "cell_type": "code",
      "execution_count": 3,
      "metadata": {
        "colab": {
          "base_uri": "https://localhost:8080/"
        },
        "id": "TjuCfAXA3S2G",
        "outputId": "520aeee2-0464-4881-9c90-fb1f3c1f0e6a"
      },
      "outputs": [
        {
          "output_type": "stream",
          "name": "stdout",
          "text": [
            "Requirement already satisfied: langchain in /usr/local/lib/python3.10/dist-packages (0.1.4)\n",
            "Requirement already satisfied: PyYAML>=5.3 in /usr/local/lib/python3.10/dist-packages (from langchain) (6.0.1)\n",
            "Requirement already satisfied: SQLAlchemy<3,>=1.4 in /usr/local/lib/python3.10/dist-packages (from langchain) (2.0.24)\n",
            "Requirement already satisfied: aiohttp<4.0.0,>=3.8.3 in /usr/local/lib/python3.10/dist-packages (from langchain) (3.9.1)\n",
            "Requirement already satisfied: async-timeout<5.0.0,>=4.0.0 in /usr/local/lib/python3.10/dist-packages (from langchain) (4.0.3)\n",
            "Requirement already satisfied: dataclasses-json<0.7,>=0.5.7 in /usr/local/lib/python3.10/dist-packages (from langchain) (0.6.3)\n",
            "Requirement already satisfied: jsonpatch<2.0,>=1.33 in /usr/local/lib/python3.10/dist-packages (from langchain) (1.33)\n",
            "Requirement already satisfied: langchain-community<0.1,>=0.0.14 in /usr/local/lib/python3.10/dist-packages (from langchain) (0.0.16)\n",
            "Requirement already satisfied: langchain-core<0.2,>=0.1.16 in /usr/local/lib/python3.10/dist-packages (from langchain) (0.1.16)\n",
            "Requirement already satisfied: langsmith<0.1,>=0.0.83 in /usr/local/lib/python3.10/dist-packages (from langchain) (0.0.83)\n",
            "Requirement already satisfied: numpy<2,>=1 in /usr/local/lib/python3.10/dist-packages (from langchain) (1.23.5)\n",
            "Requirement already satisfied: pydantic<3,>=1 in /usr/local/lib/python3.10/dist-packages (from langchain) (2.5.3)\n",
            "Requirement already satisfied: requests<3,>=2 in /usr/local/lib/python3.10/dist-packages (from langchain) (2.31.0)\n",
            "Requirement already satisfied: tenacity<9.0.0,>=8.1.0 in /usr/local/lib/python3.10/dist-packages (from langchain) (8.2.3)\n",
            "Requirement already satisfied: attrs>=17.3.0 in /usr/local/lib/python3.10/dist-packages (from aiohttp<4.0.0,>=3.8.3->langchain) (23.2.0)\n",
            "Requirement already satisfied: multidict<7.0,>=4.5 in /usr/local/lib/python3.10/dist-packages (from aiohttp<4.0.0,>=3.8.3->langchain) (6.0.4)\n",
            "Requirement already satisfied: yarl<2.0,>=1.0 in /usr/local/lib/python3.10/dist-packages (from aiohttp<4.0.0,>=3.8.3->langchain) (1.9.4)\n",
            "Requirement already satisfied: frozenlist>=1.1.1 in /usr/local/lib/python3.10/dist-packages (from aiohttp<4.0.0,>=3.8.3->langchain) (1.4.1)\n",
            "Requirement already satisfied: aiosignal>=1.1.2 in /usr/local/lib/python3.10/dist-packages (from aiohttp<4.0.0,>=3.8.3->langchain) (1.3.1)\n",
            "Requirement already satisfied: marshmallow<4.0.0,>=3.18.0 in /usr/local/lib/python3.10/dist-packages (from dataclasses-json<0.7,>=0.5.7->langchain) (3.20.2)\n",
            "Requirement already satisfied: typing-inspect<1,>=0.4.0 in /usr/local/lib/python3.10/dist-packages (from dataclasses-json<0.7,>=0.5.7->langchain) (0.9.0)\n",
            "Requirement already satisfied: jsonpointer>=1.9 in /usr/local/lib/python3.10/dist-packages (from jsonpatch<2.0,>=1.33->langchain) (2.4)\n",
            "Requirement already satisfied: anyio<5,>=3 in /usr/local/lib/python3.10/dist-packages (from langchain-core<0.2,>=0.1.16->langchain) (3.7.1)\n",
            "Requirement already satisfied: packaging<24.0,>=23.2 in /usr/local/lib/python3.10/dist-packages (from langchain-core<0.2,>=0.1.16->langchain) (23.2)\n",
            "Requirement already satisfied: annotated-types>=0.4.0 in /usr/local/lib/python3.10/dist-packages (from pydantic<3,>=1->langchain) (0.6.0)\n",
            "Requirement already satisfied: pydantic-core==2.14.6 in /usr/local/lib/python3.10/dist-packages (from pydantic<3,>=1->langchain) (2.14.6)\n",
            "Requirement already satisfied: typing-extensions>=4.6.1 in /usr/local/lib/python3.10/dist-packages (from pydantic<3,>=1->langchain) (4.9.0)\n",
            "Requirement already satisfied: charset-normalizer<4,>=2 in /usr/local/lib/python3.10/dist-packages (from requests<3,>=2->langchain) (3.3.2)\n",
            "Requirement already satisfied: idna<4,>=2.5 in /usr/local/lib/python3.10/dist-packages (from requests<3,>=2->langchain) (3.6)\n",
            "Requirement already satisfied: urllib3<3,>=1.21.1 in /usr/local/lib/python3.10/dist-packages (from requests<3,>=2->langchain) (2.0.7)\n",
            "Requirement already satisfied: certifi>=2017.4.17 in /usr/local/lib/python3.10/dist-packages (from requests<3,>=2->langchain) (2023.11.17)\n",
            "Requirement already satisfied: greenlet!=0.4.17 in /usr/local/lib/python3.10/dist-packages (from SQLAlchemy<3,>=1.4->langchain) (3.0.3)\n",
            "Requirement already satisfied: sniffio>=1.1 in /usr/local/lib/python3.10/dist-packages (from anyio<5,>=3->langchain-core<0.2,>=0.1.16->langchain) (1.3.0)\n",
            "Requirement already satisfied: exceptiongroup in /usr/local/lib/python3.10/dist-packages (from anyio<5,>=3->langchain-core<0.2,>=0.1.16->langchain) (1.2.0)\n",
            "Requirement already satisfied: mypy-extensions>=0.3.0 in /usr/local/lib/python3.10/dist-packages (from typing-inspect<1,>=0.4.0->dataclasses-json<0.7,>=0.5.7->langchain) (1.0.0)\n",
            "Requirement already satisfied: torch in /usr/local/lib/python3.10/dist-packages (2.1.0+cu121)\n",
            "Requirement already satisfied: filelock in /usr/local/lib/python3.10/dist-packages (from torch) (3.13.1)\n",
            "Requirement already satisfied: typing-extensions in /usr/local/lib/python3.10/dist-packages (from torch) (4.9.0)\n",
            "Requirement already satisfied: sympy in /usr/local/lib/python3.10/dist-packages (from torch) (1.12)\n",
            "Requirement already satisfied: networkx in /usr/local/lib/python3.10/dist-packages (from torch) (3.2.1)\n",
            "Requirement already satisfied: jinja2 in /usr/local/lib/python3.10/dist-packages (from torch) (3.1.3)\n",
            "Requirement already satisfied: fsspec in /usr/local/lib/python3.10/dist-packages (from torch) (2023.6.0)\n",
            "Requirement already satisfied: triton==2.1.0 in /usr/local/lib/python3.10/dist-packages (from torch) (2.1.0)\n",
            "Requirement already satisfied: MarkupSafe>=2.0 in /usr/local/lib/python3.10/dist-packages (from jinja2->torch) (2.1.4)\n",
            "Requirement already satisfied: mpmath>=0.19 in /usr/local/lib/python3.10/dist-packages (from sympy->torch) (1.3.0)\n",
            "Requirement already satisfied: sentence_transformers in /usr/local/lib/python3.10/dist-packages (2.2.2)\n",
            "Requirement already satisfied: transformers<5.0.0,>=4.6.0 in /usr/local/lib/python3.10/dist-packages (from sentence_transformers) (4.38.0.dev0)\n",
            "Requirement already satisfied: tqdm in /usr/local/lib/python3.10/dist-packages (from sentence_transformers) (4.66.1)\n",
            "Requirement already satisfied: torch>=1.6.0 in /usr/local/lib/python3.10/dist-packages (from sentence_transformers) (2.1.0+cu121)\n",
            "Requirement already satisfied: torchvision in /usr/local/lib/python3.10/dist-packages (from sentence_transformers) (0.16.0+cu121)\n",
            "Requirement already satisfied: numpy in /usr/local/lib/python3.10/dist-packages (from sentence_transformers) (1.23.5)\n",
            "Requirement already satisfied: scikit-learn in /usr/local/lib/python3.10/dist-packages (from sentence_transformers) (1.2.2)\n",
            "Requirement already satisfied: scipy in /usr/local/lib/python3.10/dist-packages (from sentence_transformers) (1.11.4)\n",
            "Requirement already satisfied: nltk in /usr/local/lib/python3.10/dist-packages (from sentence_transformers) (3.8.1)\n",
            "Requirement already satisfied: sentencepiece in /usr/local/lib/python3.10/dist-packages (from sentence_transformers) (0.1.99)\n",
            "Requirement already satisfied: huggingface-hub>=0.4.0 in /usr/local/lib/python3.10/dist-packages (from sentence_transformers) (0.20.3)\n",
            "Requirement already satisfied: filelock in /usr/local/lib/python3.10/dist-packages (from huggingface-hub>=0.4.0->sentence_transformers) (3.13.1)\n",
            "Requirement already satisfied: fsspec>=2023.5.0 in /usr/local/lib/python3.10/dist-packages (from huggingface-hub>=0.4.0->sentence_transformers) (2023.6.0)\n",
            "Requirement already satisfied: requests in /usr/local/lib/python3.10/dist-packages (from huggingface-hub>=0.4.0->sentence_transformers) (2.31.0)\n",
            "Requirement already satisfied: pyyaml>=5.1 in /usr/local/lib/python3.10/dist-packages (from huggingface-hub>=0.4.0->sentence_transformers) (6.0.1)\n",
            "Requirement already satisfied: typing-extensions>=3.7.4.3 in /usr/local/lib/python3.10/dist-packages (from huggingface-hub>=0.4.0->sentence_transformers) (4.9.0)\n",
            "Requirement already satisfied: packaging>=20.9 in /usr/local/lib/python3.10/dist-packages (from huggingface-hub>=0.4.0->sentence_transformers) (23.2)\n",
            "Requirement already satisfied: sympy in /usr/local/lib/python3.10/dist-packages (from torch>=1.6.0->sentence_transformers) (1.12)\n",
            "Requirement already satisfied: networkx in /usr/local/lib/python3.10/dist-packages (from torch>=1.6.0->sentence_transformers) (3.2.1)\n",
            "Requirement already satisfied: jinja2 in /usr/local/lib/python3.10/dist-packages (from torch>=1.6.0->sentence_transformers) (3.1.3)\n",
            "Requirement already satisfied: triton==2.1.0 in /usr/local/lib/python3.10/dist-packages (from torch>=1.6.0->sentence_transformers) (2.1.0)\n",
            "Requirement already satisfied: regex!=2019.12.17 in /usr/local/lib/python3.10/dist-packages (from transformers<5.0.0,>=4.6.0->sentence_transformers) (2023.6.3)\n",
            "Requirement already satisfied: tokenizers<0.19,>=0.14 in /usr/local/lib/python3.10/dist-packages (from transformers<5.0.0,>=4.6.0->sentence_transformers) (0.15.1)\n",
            "Requirement already satisfied: safetensors>=0.4.1 in /usr/local/lib/python3.10/dist-packages (from transformers<5.0.0,>=4.6.0->sentence_transformers) (0.4.1)\n",
            "Requirement already satisfied: click in /usr/local/lib/python3.10/dist-packages (from nltk->sentence_transformers) (8.1.7)\n",
            "Requirement already satisfied: joblib in /usr/local/lib/python3.10/dist-packages (from nltk->sentence_transformers) (1.3.2)\n",
            "Requirement already satisfied: threadpoolctl>=2.0.0 in /usr/local/lib/python3.10/dist-packages (from scikit-learn->sentence_transformers) (3.2.0)\n",
            "Requirement already satisfied: pillow!=8.3.*,>=5.3.0 in /usr/local/lib/python3.10/dist-packages (from torchvision->sentence_transformers) (9.4.0)\n",
            "Requirement already satisfied: MarkupSafe>=2.0 in /usr/local/lib/python3.10/dist-packages (from jinja2->torch>=1.6.0->sentence_transformers) (2.1.4)\n",
            "Requirement already satisfied: charset-normalizer<4,>=2 in /usr/local/lib/python3.10/dist-packages (from requests->huggingface-hub>=0.4.0->sentence_transformers) (3.3.2)\n",
            "Requirement already satisfied: idna<4,>=2.5 in /usr/local/lib/python3.10/dist-packages (from requests->huggingface-hub>=0.4.0->sentence_transformers) (3.6)\n",
            "Requirement already satisfied: urllib3<3,>=1.21.1 in /usr/local/lib/python3.10/dist-packages (from requests->huggingface-hub>=0.4.0->sentence_transformers) (2.0.7)\n",
            "Requirement already satisfied: certifi>=2017.4.17 in /usr/local/lib/python3.10/dist-packages (from requests->huggingface-hub>=0.4.0->sentence_transformers) (2023.11.17)\n",
            "Requirement already satisfied: mpmath>=0.19 in /usr/local/lib/python3.10/dist-packages (from sympy->torch>=1.6.0->sentence_transformers) (1.3.0)\n",
            "Requirement already satisfied: faiss-cpu in /usr/local/lib/python3.10/dist-packages (1.7.4)\n",
            "Requirement already satisfied: huggingface-hub in /usr/local/lib/python3.10/dist-packages (0.20.3)\n",
            "Requirement already satisfied: filelock in /usr/local/lib/python3.10/dist-packages (from huggingface-hub) (3.13.1)\n",
            "Requirement already satisfied: fsspec>=2023.5.0 in /usr/local/lib/python3.10/dist-packages (from huggingface-hub) (2023.6.0)\n",
            "Requirement already satisfied: requests in /usr/local/lib/python3.10/dist-packages (from huggingface-hub) (2.31.0)\n",
            "Requirement already satisfied: tqdm>=4.42.1 in /usr/local/lib/python3.10/dist-packages (from huggingface-hub) (4.66.1)\n",
            "Requirement already satisfied: pyyaml>=5.1 in /usr/local/lib/python3.10/dist-packages (from huggingface-hub) (6.0.1)\n",
            "Requirement already satisfied: typing-extensions>=3.7.4.3 in /usr/local/lib/python3.10/dist-packages (from huggingface-hub) (4.9.0)\n",
            "Requirement already satisfied: packaging>=20.9 in /usr/local/lib/python3.10/dist-packages (from huggingface-hub) (23.2)\n",
            "Requirement already satisfied: charset-normalizer<4,>=2 in /usr/local/lib/python3.10/dist-packages (from requests->huggingface-hub) (3.3.2)\n",
            "Requirement already satisfied: idna<4,>=2.5 in /usr/local/lib/python3.10/dist-packages (from requests->huggingface-hub) (3.6)\n",
            "Requirement already satisfied: urllib3<3,>=1.21.1 in /usr/local/lib/python3.10/dist-packages (from requests->huggingface-hub) (2.0.7)\n",
            "Requirement already satisfied: certifi>=2017.4.17 in /usr/local/lib/python3.10/dist-packages (from requests->huggingface-hub) (2023.11.17)\n",
            "Requirement already satisfied: pypdf in /usr/local/lib/python3.10/dist-packages (4.0.0)\n",
            "Requirement already satisfied: llama-cpp-python in /usr/local/lib/python3.10/dist-packages (0.2.33)\n",
            "Requirement already satisfied: typing-extensions>=4.5.0 in /usr/local/lib/python3.10/dist-packages (from llama-cpp-python) (4.9.0)\n",
            "Requirement already satisfied: numpy>=1.20.0 in /usr/local/lib/python3.10/dist-packages (from llama-cpp-python) (1.23.5)\n",
            "Requirement already satisfied: diskcache>=5.6.1 in /usr/local/lib/python3.10/dist-packages (from llama-cpp-python) (5.6.3)\n",
            "Requirement already satisfied: jinja2>=2.11.3 in /usr/local/lib/python3.10/dist-packages (from llama-cpp-python) (3.1.3)\n",
            "Requirement already satisfied: MarkupSafe>=2.0 in /usr/local/lib/python3.10/dist-packages (from jinja2>=2.11.3->llama-cpp-python) (2.1.4)\n",
            "  Installing build dependencies ... \u001b[?25l\u001b[?25hdone\n",
            "  Getting requirements to build wheel ... \u001b[?25l\u001b[?25hdone\n",
            "  Preparing metadata (pyproject.toml) ... \u001b[?25l\u001b[?25hdone\n"
          ]
        }
      ],
      "source": [
        "!pip install langchain\n",
        "!pip install torch\n",
        "!pip install sentence_transformers\n",
        "!pip install faiss-cpu\n",
        "!pip install huggingface-hub\n",
        "!pip install pypdf\n",
        "!pip -q install accelerate\n",
        "!CMAKE_ARGS=\"-DLLAMA_CUBLAS=on\" FORCE_CMAKE=1 pip install  llama-cpp-python --no-cache-dir\n",
        "!pip -q install git+https://github.com/huggingface/transformers"
      ]
    },
    {
      "cell_type": "code",
      "source": [
        "from langchain.chains import RetrievalQA\n",
        "from langchain.embeddings import HuggingFaceEmbeddings\n",
        "from langchain.llms import LlamaCpp\n",
        "from langchain.text_splitter import RecursiveCharacterTextSplitter\n",
        "from langchain.vectorstores import FAISS\n",
        "from langchain.document_loaders import PyPDFDirectoryLoader"
      ],
      "metadata": {
        "id": "XWCweioe3rvS"
      },
      "execution_count": 5,
      "outputs": []
    },
    {
      "cell_type": "code",
      "source": [
        "!mkdir Data"
      ],
      "metadata": {
        "id": "4jr40f0k6IWy"
      },
      "execution_count": 3,
      "outputs": []
    },
    {
      "cell_type": "code",
      "source": [
        "cd Data/"
      ],
      "metadata": {
        "colab": {
          "base_uri": "https://localhost:8080/"
        },
        "id": "31m1jN0j60-F",
        "outputId": "32919eaf-5291-4ecf-e859-d0e00a2bc25e"
      },
      "execution_count": 4,
      "outputs": [
        {
          "output_type": "stream",
          "name": "stdout",
          "text": [
            "/content/Data\n"
          ]
        }
      ]
    },
    {
      "cell_type": "code",
      "source": [
        "!wget https://pgcag.files.wordpress.com/2010/01/48lawsofpower.pdf"
      ],
      "metadata": {
        "colab": {
          "base_uri": "https://localhost:8080/"
        },
        "id": "jJOgk9ci6vNH",
        "outputId": "9deb3a78-2083-4d1f-fcb5-a915935b0687"
      },
      "execution_count": 5,
      "outputs": [
        {
          "output_type": "stream",
          "name": "stdout",
          "text": [
            "--2024-01-27 16:42:09--  https://pgcag.files.wordpress.com/2010/01/48lawsofpower.pdf\n",
            "Resolving pgcag.files.wordpress.com (pgcag.files.wordpress.com)... 192.0.72.24, 192.0.72.25\n",
            "Connecting to pgcag.files.wordpress.com (pgcag.files.wordpress.com)|192.0.72.24|:443... connected.\n",
            "HTTP request sent, awaiting response... 200 OK\n",
            "Length: 104926 (102K) [application/pdf]\n",
            "Saving to: ‘48lawsofpower.pdf’\n",
            "\n",
            "48lawsofpower.pdf   100%[===================>] 102.47K  --.-KB/s    in 0.07s   \n",
            "\n",
            "2024-01-27 16:42:10 (1.45 MB/s) - ‘48lawsofpower.pdf’ saved [104926/104926]\n",
            "\n"
          ]
        }
      ]
    },
    {
      "cell_type": "code",
      "source": [
        "cd .."
      ],
      "metadata": {
        "colab": {
          "base_uri": "https://localhost:8080/"
        },
        "id": "aze1ygZb6yI4",
        "outputId": "6815946a-821f-4209-ef6b-9d3c73c22fbf"
      },
      "execution_count": 6,
      "outputs": [
        {
          "output_type": "stream",
          "name": "stdout",
          "text": [
            "/content\n"
          ]
        }
      ]
    },
    {
      "cell_type": "code",
      "source": [
        "#load pdf files\n",
        "loader = PyPDFDirectoryLoader(\"/content/Data/\")\n",
        "data = loader.load()"
      ],
      "metadata": {
        "id": "pG2_iS6y4XaR"
      },
      "execution_count": 6,
      "outputs": []
    },
    {
      "cell_type": "code",
      "source": [
        "print(data)"
      ],
      "metadata": {
        "colab": {
          "base_uri": "https://localhost:8080/"
        },
        "id": "UJsO2Ube6_mF",
        "outputId": "84d71f83-563c-452c-df5a-ce1118637f2d"
      },
      "execution_count": 7,
      "outputs": [
        {
          "output_type": "stream",
          "name": "stdout",
          "text": [
            "[Document(page_content=' \\n \\nThe 48 Laws Of Power \\n \\n \\n \\n \\nBy  \\nRobert Greene \\n \\n \\n \\n \\nPenguin Books 2000 \\nHardcover Edition ISBN 0-670-88146-5 \\nPaperback Edition ISBN 0 14 02.8019 7 \\n452 pages \\n \\n \\nWISDOM IN A NUTSHELL', metadata={'source': '/content/Data/48lawsofpower.pdf', 'page': 0}), Document(page_content='The 48 Laws Of Power  Page 2 \\nwww.bizsum.com\\n © 2001, 2002 Copyright Busi nessSummaries.com  \\n \\nThe Big Idea \\nA comprehensive, well-researc hed synthesis of timeless phi losophies –from Machiavelli to \\nSuntzu, as applied in real-life si tuations by powerful figures in history such as Queen Elizabeth I \\nand Henry Kissinger. Absorbing and entertaining, this book lends business people a wealth of \\nideas on the subtle art of playing the power ga me, exercising clever cunning, and understanding \\nhuman weaknesses. Whether it is in the boardroom, at a power l unch, or a cocktail party– these \\nlaws will make you master of the game a nd give you the edge over your rivals. \\n \\n1. NEVER OUTSHINE THE MASTER. \\n• Transgression of the Law. \\nFinance Minister Fouquet unintentionally out shone his master, King Louis XIV, making \\nthe King feel insecure by throwing a lavish party that would show off Fouquet’s \\nconnections, cultivated manner and charm. Thinking this move would make him an \\nindispensable asset to the king, Fouquet had actually offended his master who did not \\nlike the fact people were more charmed by hi s finance minister than by him. The King \\nfound a convenient excuse to get rid of Fouquet. \\n \\n• Observance of the Law \\nGalileo was clever in observing this law by gi ving glory to his patrons. In order to solve \\nhis perennial problem of funding, he dedicated his discovery of the moons of Jupiter to \\nthe Medicis, since the royal symbol of the M edici family was the planet Jupiter. He then \\ncommissioned an emblem for them, with each moon representing one of the sons who \\nrevolved around the patriarch. The Medici family became his major patron, appointing \\nhim their official court mathematician and philosopher, thereby giving him a more \\ncomfortable life and a steady salary. \\n \\nWisdom in a nutshell: \\n• Present your ideas in such a manner th at they may be ascribed to your master, \\nor could be viewed as an echo of your master’s thoughts. \\n• If you are more intelligent than your  master, act as if you are not. \\n• Never take your position for granted. \\n• Never let favors you receive go to your head. \\n• Discreet flattery is much more powerful . Make it seem like you want to seek his \\nexpertise and advice. \\n \\n2. NEVER PUT TOO MUCH TRUST IN  FRIENDS, LEARN HOW TO USE \\nENEMIES. \\n \\n• Transgression of the Law. \\nMichael III of the Byzantine Empire in t he mid-ninth century A.D. placed too much \\ntrust in his friend, Basilius. This was a young man who had once saved his life, and in \\nreturn, was given all the privileges an em peror could bestow on a friend. Michael \\nturned the peasant Basilius into a sophistic ated and educated courtier. Basilius later \\non became greedy for more wealth and power and had his former benefactor and \\nbest friend Michael III murdered. \\n \\n \\n \\n• Observance of the Law \\nEmperor Sung of China in 959 A.D. was able to turn all his enemies into loyal friends. \\nHe persuaded his generals to retire to a life of nobility and give up their dreams of ', metadata={'source': '/content/Data/48lawsofpower.pdf', 'page': 1}), Document(page_content='The 48 Laws Of Power  Page 3 \\nwww.bizsum.com\\n © 2001, 2002 Copyright Busi nessSummaries.com \\ngrabbing his throne one day. He spared those who conspired against him, and was \\nable to win over enemies with his generosity.  \\n \\nWisdom in a nutshell: \\n• Do not rely on friends. They will never be totally honest with you. They will not \\nopenly disagree with you in order to avoid arguments. \\n• Enemies expect nothing so they w ill be surprised when you are generous. \\n• An enemy spared the guillotine will be more grateful to you than a friend. \\n• When you decide to hire a friend you will  discover qualities she has kept hidden. \\n• Skill and competence are more important than friendly feelings. \\n• Hiring friends will limit your power. \\n• All working situations require a kind of distance between people. \\n• You destroy an enemy when you make a friend of him. \\n• An enemy at your heels keeps you sharp, alert, and focused. \\n \\n3. CONCEAL YOUR INTENTIONS. \\n \\n• Transgression of the Law. \\nThe Marquis de Sevigne was young and inexperienced in the art of love. He confided \\nin the infamous courtesan of seventeent h-century France, Ninon de Lenclos, to \\ninstruct him on how to seduce a difficult  young countess. She made him follow a plan \\nover a number of weeks, where the Marq uis would be appearing in public always \\nsurrounded by beautiful women, in the very  places the countess would be expected \\nto see him. He was supposed to assume an air of nonchalance. This increased the \\njealousy of the young countess, who was not sure of his interest in her. One day the \\nMarquis, unable to control his passion, broke from Ninon’s plan, and blurted out to \\nthe countess that he loved her. After this  admission, the countess no longer found \\nhim interesting and avoided him.  \\n \\n• Observance of the Law \\nOtto von Bismarck was a deputy in the Prussian parliament at a time when many \\nfellow deputies thought it was possible to go to war against Austria and defeat it. \\nBismarck knew the Prussian army was not prepared, so he devised a clever way to \\nkeep the war at bay. He publicly stated hi s praises for the Austrians and talked about \\nthe madness of war. Many deputies changed their votes. Had Bismarck announced \\nhis real intentions, arguing it was better to wait now and fight later, he would not have \\nwon. Most Prussians wanted to go to wa r at that moment and mistakenly believed \\ntheir army to be superior to the Austrians.  Had he gone to the king his sincerity would \\nhave been doubted. By giving misleading statements about wanting peace and \\nconcealing his true purpose, Bismarck’s s peech catapulted him to the position of \\nprime minister. He later led the country to war against the Austrians at the right time, \\nwhen he felt the Prussian army was more capable. \\n \\nWisdom in a nutshell: \\n• Use decoyed objects of desire and red herrings to throw people off scent. \\n• Use smoke screens (a poker face) to disguise your actions. \\n• False sincerity is one powerful tool t hat will send your rivals on a wild goose \\nchase. \\n• Publicly declare your false intentions to give misleading signals. \\n• A noble gesture can be a smoke screen to hide your true intentions. \\n• Blend in and people will be less suspicious. \\n \\n \\n4. ALWAYS SAY LESS THAN NECESSARY. ', metadata={'source': '/content/Data/48lawsofpower.pdf', 'page': 2}), Document(page_content='The 48 Laws Of Power  Page 4 \\nwww.bizsum.com\\n © 2001, 2002 Copyright Busi nessSummaries.com  \\n• Transgression of the Law. \\nCoriolanus was a great military hero of anc ient Rome. People held him in awe, until \\nhe opened his mouth. He spoke his mind, ha rdly able to control his arrogance and \\nboastfulness. He slandered and insulted people. The more speeches he made, the \\nless people respected him. He suffered the people’s wrath and was eventually \\nbanished from the city.  \\n \\n• Observance of the Law \\nMasters of enigma Andy Warhol and Marcel Duchamp knew the power of saying less \\nand keeping people guessing. The less Duchamp talked about his work, the more it \\nwas talked about in the art circles. Andy Wa rhol recognized it was hard to talk people \\ninto doing what you wanted, so when interviewed, he would give vague and \\nambiguous answers and let the interviewer find his own interpretation.  \\n \\nWisdom in a nutshell: \\n• Saying less will keep you from saying something foolish or even dangerous. \\n• Once the words are out y ou cannot take them back. \\n• Keeping silent makes people reveal more about themselves. This is information \\nyou may be able to use against them later on. \\n \\n5. SO MUCH DEPENDS ON REPU TATION – GUARD IT WITH YOUR \\nLIFE. \\n \\n• Observance of the Law \\nDuring China’s War of the Three Kingdoms (A.D.207-265), General Liang was able to \\nfool his rival Sima Yi simply by letting hi s track record for being an undefeated leader \\nin battle do the work for him. Liang’s troop s were far outnumbered by Sima Yi’s, yet \\nhe devised a clever last resort plan. Lia ng donned a Taoist robe and played the lute \\nupon the wall of the city he was defending. His soldiers opened the gates and hid. \\nWhen Sima Yi’s troops advanced upon t he unguarded city, Yi recognized his \\nopponent sitting alone upon the wall. Fearing a trap, Sima Yi called his soldiers to \\nretreat. \\n \\nP.T. Barnum was an expert at destroying his competitor’s reputation. He published \\nletters in newspapers, warning the public  against buying his opponent’s stock. He \\nwas a master at poking mockery at the tactics of his rivals. \\n \\nWisdom in a nutshell: \\n• Sow doubt and spread rumors about your rival. Even if they  vehemently deny it, \\npeople will still be wondering why they are so defensive. \\n• Use humor or gentle mockery at your rival’s expense. \\n• A solid reputation increases your pr esence and exaggerates your strengths \\nwithout your having to spend much energy. \\n• Never appear desperate in your self- defense against the slander of others. \\n• Be careful not to go too far in attacking another’s reputation, it draws more \\nattention to your vengefulness than to the person you are slandering. Use subtler \\ntactics like satire and ridicule. \\n \\n \\n6. COURT ATTENTION AT ALL COST. \\n \\n• Observance of the Law ', metadata={'source': '/content/Data/48lawsofpower.pdf', 'page': 3}), Document(page_content='The 48 Laws Of Power  Page 5 \\nwww.bizsum.com\\n © 2001, 2002 Copyright Busi nessSummaries.com \\nP.T. Barnum learned about courting attention to his favor. Any form of publicity would \\nbenefit his entertainment business, no matter if it were bad publicity. He promoted his \\nshows of curiosities to audiences with a ll kinds of gimmicks. He would offer Free \\nMusic for Millions, but hire bad musicians, so the crowd would end up buying tickets \\nto the show so they could avoid the bands . He planted articles in newspapers and \\neven sent anonymous letters to keep his name in the limelight. \\n \\nMargaretha Zelle was able to use this law to make a name for herself as the \\nmysterious exotic dancer Mata Hari. It was rumored she was from India and danced \\nin private parties, in an Eastern manner never before seen in Europe. She would \\nslowly discard her veils and sarongs for the most prominent people in Paris who \\ncame to see her. Many years later it w ould be discovered she was just a native of \\nHolland and had worked for the Germans as a spy. \\n \\nWisdom in a nutshell: \\n• Surround your name with the sensational and the scandalous. \\n• Create an air of mystery. \\n• It is better to be attacked and slandered than ignored. \\n• Make yourself appear larger than life. \\n• Any sort of notoriety  will bring you power. \\n \\n7. GET OTHERS TO DO THE WORK FOR YOU, BUT ALWAYS TAKE THE \\nCREDIT. \\n• Transgression and Observance of the Law \\nNicola Tesla was a Serbian scientist who never learned how this law was used \\nagainst him time and again. His invention, t he AC or alternating current system was \\nassociated not with his name but with that  of George Westinghouse, who funded his \\nresearch. Both Thomas Edison and George Westinghouse were ruthless \\nbusinessmen who took credit for Tesla’s work . In the end, Tesla was living in poverty, \\nwhile royalties for his life’s work went to Edison and Westinghouse. He accepted \\nsmall sums as buy-outs for his work, when in reality his creations could have been \\nworth millions. Even Marconi made use of a patent filed by Tesla in 1897. Tesla was \\nthe real “father of radio” but received no money or credit for this invention. \\n \\nWisdom in a nutshell: \\n• Save time and energy by hiring others to do the work. \\n• Your helpers will be forgotten and you will be remembered. \\n• Borrow from history. Use the past  and profit by others’ experience. \\n• You can only exploit others’ talent s if your position is unshakable. \\n \\n8. MAKE OTHER PEOPLE COME TO  YOU – USE BAIT IF NECESSARY. \\n• Observance of the Law \\nNapoleon’s former foreign minister Talleyrand was master of this law. He knew \\nNapoleon loved the adoration of the masses, and this was the perfect bait to make \\nthe former ruler play into the hands of his opponents. In 1814 Napoleon was \\nbanished to a small island called Elba near Italy. Here he was given information that \\nFrance would embrace him again if he es caped. From Elba he was able to escape \\nand march back into Paris with a small army. The people bowed to him, and soldiers \\nchanged sides to join him. The statesm en who had taken over his empire fled. \\nTalleyrand watched as his plan unfolded. Napoleon ruled France again for a hundred \\ndays, but the country was bankrupt and could not sustain Napoleon’s wars any \\nlonger. Napoleon was recaptured at the Battl e of Waterloo and exiled to the barren \\nisland St. Helena, off the west coast of Africa. This was a much further place with no \\nchance of escape, and was more to Talleyrand’s liking. ', metadata={'source': '/content/Data/48lawsofpower.pdf', 'page': 4}), Document(page_content='The 48 Laws Of Power  Page 6 \\nwww.bizsum.com\\n © 2001, 2002 Copyright Busi nessSummaries.com \\n \\nWisdom in a nutshell: \\n• For negotiations and meetings, it is wise to lure others into your territory, or a \\nterritory of your choice. \\n• Once someone suspects y ou are manipulating him, it will be harder to control \\nhim. Making him come to you gives the illusion he is in control. \\n• Most often the effective action is to stay back, keep calm, and let others be \\nfrustrated by the traps you set for them. \\n \\n9. WIN THROUGH YOUR ACTIONS,  NEVER THROUGH ARGUMENT. \\n• Observance of the Law \\nMichelangelo knew how to satisfy a patron while getting his way at the same time. Piero \\nSoderini, Florence’s mayor, commissioned him to  transform a ruined piece of marble into \\na statue. Soderini visited the studio one day and commented that t he nose of the statue \\n(that of David with a sling in his hand) wa s too big. Michelangelo invited the mayor to \\nclimb up a scaffolding, allowing him to look at  the nose from a different perspective, while \\nthe artist chiseled a bit, pretending to correct the size of the nose. The mayor was \\nconvinced the nose looked much better. Michelangelo succeeded in making Soderini \\nthink his comment had helped improve the work. \\n \\nWisdom in a nutshell: \\n• Demonstrate, do not explicate. \\n• Arguing will only offend your superior. \\n• Learn to demonstrate the correctn ess of your ideas indirectly. \\n• Choose your battles carefully. \\n• Don’t bother demonstrating if time and experience will eventua lly teach the other \\nperson what you are trying to say. Save your energy and walk away. \\n• No one can argue with a demonstrated proof. \\n \\n10. INFECTION: AVOID THE UNHAPPY AND THE UNLUCKY. \\n• Transgression of the Law \\nIn the 1840’s Marie Gilbert, better known as Lola Montez, came to Paris to become a \\ndancer and performer. She had many husbands, and caused the ruin of many a powerful \\nman. Because of her ambition to be a dan cer she “accidentally” ran into Alexandre \\nDujarier, then the owner of France’s most pop ular newspaper and a drama critic himself. \\nAlthough still legally married to an Englishman with whom she eloped at 19, Lola kept her \\nstatus secret from all her husbands. Duja rier was shot dead defending her honor at a \\nduel against another drama critic. Lola went on to have several husbands, even causing \\nKing Ludwig of Bavaria to abdicate. She left another man who later fell into a deep \\ndepression, became a drunkard, and eventually died at a relatively young age. The man \\nwho published her autobiography went bankrupt. \\n \\nWisdom in a nutshell: \\n• In the game of power, the people you associate with are critical. \\n• An infector can be recognized by the mi sfortune they draw on themselves, their \\nturbulent past, a long line of broken rela tionships, unstable careers, the very \\nintensity of their emotions, and the force of their character. \\n• Gravitate towards prosperous, c heerful, and gregarious people.  \\n• Never associate with those who share your defects. \\n \\n \\n11. LEARN TO KEEP PEOPL E DEPENDENT ON YOU. \\n• Observance of the Law ', metadata={'source': '/content/Data/48lawsofpower.pdf', 'page': 5}), Document(page_content='The 48 Laws Of Power  Page 7 \\nwww.bizsum.com\\n © 2001, 2002 Copyright Busi nessSummaries.com \\nMichelangelo was able to keep his patron Pope Julius II dependent on him. When he and \\nthe pope quarreled over the building of the pope’s marble tomb, Michelangelo left Rome \\nin disgust. The pope sought him out and begged the artist to stay. Michelangelo knew he \\ncould always find another patron, but the pope knew he could not find another \\nMichelangelo. \\n \\nMichelangelo’s power was intensive, depen ding on one skill. Henry Kissinger’s power \\nwas extensive. He was so invo lved in so many areas of th e political structure that to \\nremove him would lead to chaos. The intens ive form of power provides more freedom \\nthan the extensive. \\n \\nMachiavelli said it is better to be feared than loved. Fear can be controlled; love, never. \\n \\nWisdom in a nutshell: \\n• Be the only one who can do what you do. Make the fate of those who hire you so \\nentwined with yours they cannot  possibly get rid of you. \\n• If you are ambitious, it is wiser to seek out weak masters with whom you can \\ncreate a relationship of dependency. \\n• Possess a talent or creative skill t hat sets you apart from the crowd. \\n• By knowing other people’s secrets and holding information they wouldn’t want \\nmade public, you seal your fate with theirs. \\n \\n12. USE SELECTIVE HONESTY AND GENEROSITY TO DISARM YOUR \\nVICTIM. \\n• Observance of the Law \\nCount Victor Lustig promised Al Capone into giving him $50,000 on the terms that he \\nwould double this investment in sixty days. Lustig kept the money untouched in a safety \\ndeposit box. After the sixty days were up, he apologized to Capone saying he had failed \\nto double the money. Capone expected either $100,000, or nothing, what he did not \\nexpect was an honest gesture of Lustig act ually returning the $50,000. Al Capone was a \\nman who lived in constant mistrust of peopl e around him, and was so touched by the \\nhonest gesture he gave Lu stig an extra $5,000. \\n \\nThe classic tale of the Fall of Troy is one ex ample of hiding your ulterior motives within a \\ngift. The Trojan Horse was designed to hold soldie rs that would attack the city of Troy \\nand recapture Helen who had been taken aw ay from the Greeks by Paris. \\n \\nWisdom in a nutshell: \\n• The essence of deception is distracti on. An act of kindness, generosity, or \\nhonesty will distract and disarm people and turn them into gullible children. \\n• Give before you take. \\n• Nothing in the realm of power is set in stone. Overt deceptiveness may \\nsometimes cover your tracks. If you have a history of deceit behind you, then \\nplay the rogue, be consistent and this will be interpreted as you simply being \\nyourself. Your dishonesty becomes an act of honesty. \\n \\n13. WHEN ASKING FOR HELP, AP PEAL TO PEOPLE’S SELF-INTEREST, \\nNEVER TO THEIR MERCY OR GRATITUDE. \\n• Observance of the Law \\nGenghis Khan was known for his greed and self-interest. When he conquered China, \\ninstead of slaughtering all the citizens, his adv iser Yelu Ch’u-Ts’ai persuaded him to reap \\nthe benefits of their new territory by taxing its people. It was Ts’ai who also convinced \\nKhan to spare the inhabitants of Kaifeng, where China’s finest craftsmen and engineers \\nhad fled. Ts’ai’s reasoning was Khan coul d use these people for his own benefit. ', metadata={'source': '/content/Data/48lawsofpower.pdf', 'page': 6}), Document(page_content='The 48 Laws Of Power  Page 8 \\nwww.bizsum.com\\n © 2001, 2002 Copyright Busi nessSummaries.com \\n \\nMost people are very pragmatic, and when  negotiating, do not bring up the need for \\ngratitude for what you have done for others in the past. These appeals will be ignored. \\nPragmatic people look towards the future, so it is best to emphasize how they will benefit \\nfrom an alliance with you.  \\n \\nWisdom in a nutshell: \\n• Understand the other person’s motivation. \\n• See things their way an d offer suggestions that will advance their cause. \\n• For others who want to feel superior and do not want to appear selfish, appeal to \\ntheir need to display their charity in the public eye.  \\n \\n14. POSE AS A FRIEND, WORK AS A SPY. \\n• Observance of the Law \\nJoseph Duveen was the greatest art dealer of his time; from 1904-1940 he single-\\nhandedly monopolized the art-collecting market through his ingenious spying tactics. He \\nwould place the household employees of his potential clients on his own payroll. These \\nspies would provide him valuable information as  the tastes of his mark. He would arrange \\n“accidental” meetings in elevators, leading his prey of wealthy patrons right into his trap. \\nWhen clients came to visit his galleries, t hey found themselves surrounded by works they \\nwould most likely buy. \\n \\nWisdom in a nutshell: \\n• Gather information at social events when people’s guards are down. \\n• Use other people to give you the information you need. \\n• Mislead others by giving out false information. Watch them react and base your \\nnext action on what you discover. \\n \\n15. CRUSH YOUR ENEMY TOTALLY. \\n• Observance of the Law \\nThe great Empress Wu of China was ruthless in  her rise to power. She started out as a \\nconcubine of an emperor, but did not want to fo llow the traditional path: that of living the \\nrest of her life in a convent after the em peror’s death. She had seduced the emperor’s \\nson in the royal urinal and befriended his wife. Because of this Wu was able to get a royal \\nedict out of the convent. She returned to the harem, became pregnant, and murdered her \\nown baby, knowing the prime suspect would be the jealous wife of the new emperor. The \\nwife was charged with murder and executed. Wu took her place and her new husband \\nhanded over the reins of government to her, opting for a life of pleasure. Empress Wu \\nruled until the age of eighty when she was forced to abdicate. Throughout her rule she \\neliminated son after son, anyone w ho would challenge her throne. \\n \\nWisdom in a nutshell: \\n• Show no mercy. Crush your rivals or else you will give them time to regroup and \\nplot their revenge. \\n• Banish enemies or plot for the best time to render them harmless. \\n• Leave your enemies no options. \\n• Sometimes enemies will destroy themselves.  \\n• Thoughts of reconciliation will open you up to attack. \\n \\n \\n \\n16. USE ABSENCE TO INCRE ASE RESPECT AND HONOR. \\n• Observance of the Law ', metadata={'source': '/content/Data/48lawsofpower.pdf', 'page': 7}), Document(page_content='The 48 Laws Of Power  Page 9 \\nwww.bizsum.com\\n © 2001, 2002 Copyright Busi nessSummaries.com \\nThis law is most appreciated in matters of seduction and love. Make yourself too \\navailable and your presence w ill be taken for granted. In t he Middle Ages, ladies played \\nthe game of presence and absence by sending their knights off on long arduous quests. \\nSir Guillaume de Balaun wanted to taste the joy of love after reconciliation, and twice he \\nintentionally made himself scarce, withdrawi ng his affections from Madame Guillelma de \\nJaviac. The first time he drove his lover wild with grief, the second time she became \\nangry and cut him off. When he wr ote her begging to be let back into her favor, she \\nallowed him back only on the condition he do penance for his cruelty. \\n \\nWith business, an early retirement at the hei ght of your career will keep people holding \\nyou in high regard, and waiting to see you make a comeback. \\n \\nWisdom in a nutshell: \\n• Create value through scarcity. Make y ourself less accessible; otherwise the aura \\nyou have created around y ourself will wear away. \\n \\n17. KEEP OTHERS IN SUSPENDED TERROR: CULTIVATE AN AIR OF \\nUNPREDICTABILITY. \\n• Observance of the Law \\nBobby Fischer beat chess champion Boris Sp assky using this law of unpredictability. \\nSpassky’s method of playing ch ess was to base his strategy on the patterns he read in \\nhis opponent’s moves. Fischer unnerved him by arriving late for the first two tournaments, \\neven letting a match get forfeited. On the third game he made moves that were so \\nuncharacteristic and bold Spassky was thrown off balance. Fourteen games later \\nSpassky claimed Fischer was probably putting dr ugs in the orange juice they drank while \\nplaying. Spassky resigned a few months later and never recovered from his defeat. \\n \\nWisdom in a nutshell: \\n• A person of power in stills fear by deliberately unsett ling those around him to keep \\nthe initiative on his side. \\n• Only the terminally subordinate act in a predictable manner. \\n \\n18. DO NOT BUILD FORTRESS ES TO PROTECT YOURSELF – \\nISOLATION IS DANGEROUS. \\n• Observance of the Law \\nKing Louis XIV recognized the importance of always keeping his eyes and ears on \\neveryone and everything around him. He built a palace in Versailles where all the nobility \\ncould keep apartments near to his. He knew that if he were to isolate himself for one \\nmoment, conspiracies would rise behind his ba ck. The daily activities all revolved around \\nthe king, leaving no one unnoticed, hundreds of visitors and attendants were always \\npresent. There was not very much privacy for the king and he preferred this life to one of \\nisolation. \\n \\nWisdom in a nutshell: \\n• A fortress may be impregnable, but ever yone knows you are there and it may easily \\nturn into a prison.  \\n• Power depends on social interaction and circulation.  \\n• Isolation is deadly for the creative arts. Shakespeare was always producing plays for \\nthe masses. He was in constant touch with reality and what people wanted.  \\n• Mobility and social contact protects you from plotters.  \\n \\n19. KNOW WHO YOU’RE DEALING WITH – DO NOT OFFEND THE \\nWRONG PERSON. \\n• Transgression of the Law ', metadata={'source': '/content/Data/48lawsofpower.pdf', 'page': 8}), Document(page_content='The 48 Laws Of Power  Page 10 \\nwww.bizsum.com\\n © 2001, 2002 Copyright Busi nessSummaries.com \\nIn the early thirteenth century, Muhammad the Shah of Khwarezm made the grave \\nmistake in offending a new tribal leader who was emerging in the east. His name was \\nGenghis Khan. Khan offered to share the Silk Route with Muhammad, sending \\nambassadors to forge a deal. After his ambassadors were beheaded, Genghis Khan \\ndeclared war. Eventually his forces seized th e capital of the Shah’s empire, Samarkand. \\nMuhammad fled, and the Silk Route fell into the hands of Genghis Khan. \\n \\nLearn to distinguish from opponent, sucker, and victim. The five difficult and sometimes \\ndangerous marks are: the arrogant and proud,  the hopelessly insecure, the suspicious, \\nthe serpent with a long memory, and the plain, unassuming, unintelligent man. \\n \\nWisdom in a nutshell: \\n• Measure up your opponent, but never rely on instinct. Do some research on concrete \\nfacts about that person’ s character and history.  \\n• Never trust appearances.  \\n \\n20. DO NOT COMMIT TO ANYONE. \\n• Observance of the Law \\nQueen Elizabeth I managed to avoid the tr ap of marriage and war, by dangling the \\npossibility of marriage to all who courted her . She forged alliances with the countries \\nthese suitors came from, all for the benefit  of England. By keeping her independence \\nabove all, Elizabeth protected her power and made herself an object of worship. \\n \\nWisdom in a nutshell: \\n• By refusing to commit, but allowing your self to be courted, you become powerful \\nbecause you are ungraspable.  \\n• As your reputation for independence grows, more people will desire you and want to \\nconquer you.  \\n• Politely decline. You cannot allow y ourself to feel obligated to anyone.  \\n• Seek promises from both sides, so no matte r what the outcome of an election or \\nbattle, your position is secure.  \\n• Observe quarreling parties and stay neutra l but supportive to both sides. Gain power \\nas a mediator.  \\n• You may commit to one to prove you are capable of attachment, but be emotionally \\nuninvolved. Preserve the unspoken option of  being able to leave anytime and reclaim \\nyour freedom. The friends you made while being courted will help you jump ship.  \\n \\n21. PLAY A SUCKER TO CATCH A SUCKER – SEEM DUMBER THAN \\nYOUR MARK. \\n• Observance of the Law \\nIn what was the biggest diamond scam of the century, prospectors Philip Arnold and \\nJohn Slack fooled the biggest financiers  of the time, Asbury Harpending, Baron \\nRothschild, and William Ralston into investing their millions in a fake mine site. The two \\nmen played up their small town, scruffy image;  convincing the sophisticated tycoons that \\nthey would easily be bought out for their discovery of the mine s. In the end, after the legal \\npay-off was made to the two men, the invest ors realized the mine had been salted with \\nuncut gems by Arnold and Slack. Since all the business had been legal, and experts had \\ninspected the mines, there was no way to go after the two men. \\n \\nWisdom in a nutshell: \\n• \\nIntelligence is an important part of people’s vanity. Subliminally reassure your \\nopponent of his superiority.\\n \\n• \\nPlaying naïve lets you see opportunities to deceive others.\\n \\n ', metadata={'source': '/content/Data/48lawsofpower.pdf', 'page': 9}), Document(page_content='The 48 Laws Of Power  Page 11 \\nwww.bizsum.com\\n © 2001, 2002 Copyright Busi nessSummaries.com 22. USE THE SURRENDER TACTIC: TRANSFORM WEAKNESS INTO \\nPOWER. \\n• Observance of the Law \\nGerman writer Bertolt Brecht was called to appear before the US Congress’s House of \\nUn-American Activities Committee during the heyday of the Communist investigations. \\nUnlike his companions in the Hollywood 19, (other producers, directors and writers who \\nespoused communism in their scripts) he chos e to be respectful to the committee. Subtly \\nhe mocked them by offering vague but polite answers, used an interpreter to run circles \\naround them when asked about the lines from his poems, and was summarily dismissed. \\nHe was free to leave America and continue writ ing as he pleased, while his friends in \\nHollywood lost valuable working years as a result of being blacklisted. \\n \\nWisdom in a nutshell: \\n• \\nDo not fight aggression with aggression. Put your opponent off-guard by yielding, and \\nin effect have more control over the situation.\\n \\n• \\nSurrender is a way of mocking your enemies.\\n \\n• \\nSurrender disguises your real motives and allows time to plan your next move.\\n \\n \\n23. CONCENTRATE YOUR FORCES. \\n• Observance of the Law \\nThe Rothschild banking family concentrated its wealth within a very tight-knit structure. \\nFive brothers each controlled a part of the em pire from Paris, Frankfurt, Vienna, Naples, \\nto London. They established themselves as a powerful force in business and politics, \\nkeeping the secrets of the fa mily business by exchanging internal communications only in \\ncode or Frankfurt Yiddish. Family policy rul ed and their children intermarried, all of them \\nfirst cousins. \\n \\nWisdom in a nutshell: \\n• Single-mindedness of purpose and total concentration on one goal will overwhelm \\nthe enemy every time.  \\n• A single patron appreciates your loyalt y and becomes dependent on your services. \\n• In the arts, being too single-minded can make you an intolerable bore.  \\n \\n24. PLAY THE PERFECT COURTIER. \\nWisdom in a nutshell: \\n• Avoid ostentation. Talk less about your self. Modesty is generally preferable. \\n• Practice nonchalance. All your hard work must come off as effortless. \\n• Be frugal with flattery.  \\n• Arrange to be noticed. \\n• Alter your style and language accordin g to the person you are dealing with. \\n• Never be the bearer of bad news. \\n• Never affect friendliness and intimacy with your master. \\n• Never criticize those above you directly. \\n• Be frugal in asking those above you for favors. \\n• Never joke about appearances or taste. \\n• Do not be the court cynic. \\n• Be self-observant. \\n• Master your emotions. \\n• Fit the spirit of the times. \\n• Be a source of pleasure. \\n \\n25. RE-CREATE YOURSELF. \\nObservance of the Law ', metadata={'source': '/content/Data/48lawsofpower.pdf', 'page': 10}), Document(page_content='The 48 Laws Of Power  Page 12 \\nwww.bizsum.com\\n © 2001, 2002 Copyright Busi nessSummaries.com \\nJulius Caesar always incorporated drama and theatrics in his speeches and daily \\nappearances. He was a great public showman, timing his entrances and exits, \\nsponsoring extravagant spectacles, gladiator shows and theatrical events. The masses \\nloved him, but his rivals feared him. \\n \\nAurore Dupin Dudevant left her husband and family  in the provinces to become a writer in \\nParis, something unheard of and almost im possible for a woman to do in 1831. For the \\npublication of her novel Indiana , she assumed the pseudonym George Sand. She \\ndressed in men’s breeches, smoked cigars, and expressed herself in conversation like a \\nman. She even carried on affairs with the most  famous artists of Europe - Musset, Liszt, \\nand Chopin - living with freedom and independence unlike any other female writer before \\nher. \\n \\nWisdom in a nutshell: \\n• \\nControl your appearances and emotions. Pl ay sincere, but not necessarily be \\nsincere.\\n \\n• \\nCreate a memorable character. Do not limit yourself to the role society assigns to \\nyou.\\n \\n \\n26. KEEP YOUR HANDS CLEAN. \\nObservance of the Law: \\nCleopatra was always able to get people to do her bidding without them realizing she was \\nmanipulating them.  She was able to charm Juliu s Caesar into restoring her to the throne \\nof Egypt, and playing her siblings against eac h other. Marc Antony was seduced by her, \\nand had her younger sister Arsinoe executed, ridding Cleopatra of any threats to her \\nplace as Queen. \\nWisdom in a nutshell: \\n• Conceal your mistakes. Your good name and reputation depends more on what you \\nconceal than on what you reveal.  \\n• Always have a convenient scapegoat.  \\n• Never do the dirty work yourself.  \\n \\n27. PLAY ON PEOPLE’S NEED TO BELIEVE TO CREATE A CULT-LIKE \\nFOLLOWING. \\nWisdom in a nutshell: \\n• Keep it simple; keep it vague. Create new words for vague concepts.  \\n• Emphasize the visual and sensual over the intellectual.  \\n• Borrow the forms of organized religion to st ructure the group. Create rituals. Use \\nnames and ranks and titles. Ask them to make sacrifices and give alms. Act like a \\nguru or a prophet.  \\n• Disguise your source of income.  \\n• Set up an us-versus-them dynamic. Keep fo llowers united by identifying outsiders as \\na devious enemy.  \\n• The tendency to doubt and reason is broken down when we join a group.  \\n \\n28. ENTER ACTION WITH BOLDNESS. \\nIvan the Terrible waited five years before ex ecuting his first major bold move. After years \\nof persecution by the Shuisky family, t he poisoning of his mother Helena, and the \\nbanishment of his only friend Vorontsov, the th irteen year-old Ivan invited his rival Prince \\nAndrei Shuisky into his room. No one feared  the young boy and the boyars often ridiculed \\nhim. When the guards were suddenly ordered to seize Prince Andrei and execute him, no \\none saw it coming. This one swift and bold act secured Ivan’s power for decades to \\ncome. \\n ', metadata={'source': '/content/Data/48lawsofpower.pdf', 'page': 11}), Document(page_content='The 48 Laws Of Power  Page 13 \\nwww.bizsum.com\\n © 2001, 2002 Copyright Busi nessSummaries.com \\nIvan initially lay low, showing neither ambiti on nor discontent. He waited until he had won \\nover the palace guards to his side. They had come to hate the cruelty of the Shuiskys \\nover the years, and the time was at  hand to strike boldly and swiftly. \\n \\nWisdom in a nutshell: \\n• The bolder the lie, the better.  \\n• Lions circle the hesitant prey.  \\n• Boldness strikes fear; Fear creates authority.  \\n• Going halfway digs the deeper grave. Do not negotiate if you opponent will more \\nlikely take the opportunity to destroy you.  \\n• Hesitation creates gaps. Boldness obliterates them. Move swiftly and surely.  \\n• Audacity separates you from the herd.  \\n \\n29. PLAN ALL THE WAY TO THE END. \\n \\nWisdom in a nutshell: \\n• Take into account all possible obstacle s and circumstances t hat may prevent you \\nfrom achieving your goal, and pl an how you will overcome them.  \\n• When you see several steps ahead, you will no longer need to improvise along the \\nway, and risk deviating from your plan.  \\n• Prepare alternatives and be open to adapt new routes to your goal.  \\n  \\n30. MAKE YOUR ACCOMPLISH MENTS SEEM EFFORTLESS. \\nObservance of the Law: \\nSen no Rikyu was an important tea master and adviser on aesthetic and political matters \\nto the Emperor Hideyoshi. He despised hosts who looked like they were trying to hard.  \\nCha-no-yu, or the Japanese tea ceremony, is an art form, from the preparation to the \\nserving; the whole process must look natural and easy. Accidental grace and beauty \\nwere Rikyu’s specialty. On the night befor e the Emperor was to visit him for a tea \\nceremony, he artfully laid cushions in the snow on each stepping-stone to his house. In \\nthe morning, he removed the cushions reveali ng the pattern of the stepping-stones like a \\nperfect mold within the snow. This was just one of Rikyu’s clever aesthetic tricks which \\nimpressed the Emperor, never calling attention to the work gone into it, but implying a \\npolite gesture in itself. \\n \\nWisdom in a nutshell: \\n• What imitates nature by appearing effo rtless and natural approximates nature’s \\npower.  \\n• Never show your work until it is finished.  When people see the effort and time it takes \\nto make it, and if they witness a work-in- progress, the magic of the finished piece is \\nspoiled.  \\n \\n31. CONTROL THE OPTIONS: GET OT HERS TO PLAY WITH THE CARDS \\nYOU DEAL. \\nObservance of the Law: \\nSeventeenth-century French courtesan Ninon de Lenclos needed to devise a way of \\nmaintaining her lifestyle while having the freedom no woman could achieve in her day. \\nShe gave her lovers and suitors three choices,  a payeur would pay for her services, but \\nshe would only sleep with him when she liked, a martyr would not have to pay, and be \\npart of her harem of men, and from the martyrs she would choose a favori, or one man to \\nwhom she would abandon herself to totally unt il she was tired of him. The payeurs were \\nable to finance her needs while she enjoy ed complete freedom, independence, and \\nvariety from her lovers. She had the equality to men no married woman of the time could \\npossess.  ', metadata={'source': '/content/Data/48lawsofpower.pdf', 'page': 12}), Document(page_content='The 48 Laws Of Power  Page 14 \\nwww.bizsum.com\\n © 2001, 2002 Copyright Busi nessSummaries.com \\nWisdom in a nutshell: \\n• \\nMake people your puppets and give them options  to let them feel they have control. \\nForce them to choose between the lesser of two evils, both of which serve your \\npurpose.\\n \\n• \\nPresent options but color the one you prefer as the best solution.\\n \\n• \\nForce the resister into “choosing” to do what you want by appearing to advocate the \\nopposite.\\n \\n• \\nAlter the playing field so the only opt ions available are the ones you offer.\\n \\n• \\nShrinking options force people to buy in now or else the goods won’t be available \\ntomorrow.\\n \\n• \\nThe weak man must be propelled into action through fear and terror.\\n \\n• \\nInvolving your victim in your scheme with the threat of their exposure later will keep \\nthem tied to you. They cannot expose you because they will be found out as well.\\n \\n• \\nUse the horns of a dilemma: whichever  way they choose, there is no escape.\\n \\n \\n32. PLAY TO PEOPLE’S FANTASIES. \\nObservance of the Law: \\nIn the 1700s, a mysterious stranger named George Psalmanazar came to fame with his \\nbooks and lectures on the language, culture and history of the island of Formosa (now \\nTaiwan).  After his death, it was revealed t hat he was in fact a Frenchman with a rich \\nimagination who played on the British need for the exotic and strange. He had invented \\neverything he had professed to be an expert on, having capitalized on it with best-selling \\nbooks and having been a favorite guest at many royal dinners. \\n \\nAbraham Lincoln created an image of himself as the homespun country lawyer with a \\nbeard. He played to the fantasy of the common man’s president. \\n \\nWisdom in a nutshell: \\n• People need a fantasy to escape from t he humdrum of everyday life. The more \\nvague and exotic, the more captivating.  \\n• Promise a pot of gold and instant gratific ation, rather than a gradual improvement \\nthrough hard work.  \\n• Keep your distance so the fantasy remains intact.  \\n \\n33. DISCOVER EACH MAN’S THUMBSCREW. \\nWisdom in a nutshell: \\n• \\nEvery person has a weakness or insecu rity you can use to your advantage.\\n \\n• \\nTrain yourself to probe for weaknesses in everyday conversation.\\n \\n• \\nFind the childhood need that went unfulfilled,  supply it, and your victim will be unable \\nto resist you.\\n \\n• \\nPeople’s weaknesses are the opposite of t he qualities they reveal to you. The shy \\nperson is actually dying for attention; a prude may be hiding a lascivious soul, etc.\\n \\n• \\nFind the weak link or the one person in  a group who will ben d under pressure.\\n \\n• \\nFeed on uncontrollable emotions or motive – paranoia, lust, greed, vanity, or hatred. \\n \\n• \\nWhen searching for suckers, always look for the unhappy, insecure and dissatisfied.\\n \\n \\n34. BE ROYAL IN YOUR OWN FASH ION: ACT LIKE A KING TO BE \\nTREATED LIKE ONE. \\nWisdom in a nutshell: \\n• \\nHow you carry yourself reflects what you think of yourself. Exude confidence and the \\nfeeling you were destined for greatness.\\n ', metadata={'source': '/content/Data/48lawsofpower.pdf', 'page': 13}), Document(page_content='The 48 Laws Of Power  Page 15 \\nwww.bizsum.com\\n © 2001, 2002 Copyright Busi nessSummaries.com • \\nDo not confuse regal bearing with arrogance.\\n \\n• \\nDignity is the mask you assume under di fficult circumstances. Act like nothing can \\naffect you and you have all the time in the world to respond.\\n \\n• \\nSet your price high and do not waver.\\n \\n• \\nDeal with the highest person in the building.\\n \\n• \\nA gift is an equalizer. You do not beg but ask for help in a dignified way.\\n \\n \\n35. MASTER THE ART OF TIMING. \\nTime as a human-made concept \\nThere are three kinds of time we deal wi th when building power: the Long Time is the \\nyears-long period of waiting for the right opp ortunity while creating a strong foundation or \\nbase to work from. Forced Time is upsetting the timing of others and setting their \\ndeadlines for them. The opponent will be more likely to make mistakes because of the \\nneed to hurry, or in the case of business, will be forced to buy whatever you offer \\nbecause the time to make a decision is limit ed. End Time is when we execute a plan with \\nspeed and absolutely no hesitation. \\n \\nWisdom in a nutshell: \\n• \\nNever look as though you are in a hurry. It betrays a lack of control.\\n \\n• \\nLearn to stand back and be patient. Strike only when the time is right.\\n \\n• Anticipate events and work with  the spirit of the times. \\n• Recognizing the prevailing winds does not necessarily mean running with them. \\n \\n36. DISDAIN THINGS YOU CANNOT HAVE: IGNORING THEM IS THE \\nBEST REVENGE. \\nWisdom in a nutshell: \\n• The more attention you pay an enemy, the stro nger you make him. The less interest you \\nshow, the more superior you seem. \\n• Remember: You choose to let things bother you. You can just as easily choose to \\nconsider the matter trivial and unworthy of your interest. That is the powerful move. \\n• If it is impossible to ignore, then secretly get  rid of it. Sometimes threats just go away by \\nthemselves. \\n \\n37. CREATE COMPELLING SPECTACLES. \\nWisdom in a nutshell: \\n• \\nNever neglect the way you arrange things visually.\\n \\n• \\nAssociate yourself with colors, images and symbols that communicate strong \\nmessages.\\n \\n• People are always impressed by the superf icial appearance of things, the grand, and \\nthe spectacular, what is larger than life. \\n \\n38. THINK AS YOU LIKE BUT BEHAVE LIKE OTHERS. \\nWisdom in a nutshell: \\n• \\nWise and clever people learn early on that they can display conventional behavior \\nand mouth conventional ideas without having to believe in them.\\n \\n• \\nPut on the mask appropriate to the group you are joining.\\n \\n \\n39. STIR UP WATERS TO CATCH FISH. \\nWisdom in a nutshell: \\n• \\nAnger and emotion are strategically unproduct ive. Make your enemies angry but stay \\ncalm yourself.\\n ', metadata={'source': '/content/Data/48lawsofpower.pdf', 'page': 14}), Document(page_content='The 48 Laws Of Power  Page 16 \\nwww.bizsum.com\\n © 2001, 2002 Copyright Busi nessSummaries.com • \\nAngry people usually end up looking ridiculous.\\n \\n• Nothing in the game of power is personal. \\n• An occasional outburst may be powerful, but  use anger too often and it loses its \\npower. \\n40. DESPISE THE FREE LUNCH. \\nWisdom in a nutshell: \\n• \\nBy paying your own way you stay free of gr atitude. What is offered for free normally \\nhas a hidden obligation.\\n \\n• \\nGenerosity is a sign of power. Most powe rful people spend freely and are not misers.\\n \\n• \\nUse money as a way to give pleasure to others and win them over.\\n \\n \\n41. AVOID STEPPING INTO A GREAT MAN’S SHOES. \\nWisdom in a nutshell: \\n• \\nChoose a different path and personal style if  you are the daughter or son of a great \\nperson. You will forever be in your pred ecessor’s shadow unless you find a way to \\nshine on your own.\\n \\n• \\nOnly after the father figure has been done aw ay with will there be space to establish \\na new order.\\n \\n• \\nDo not become complacent once you reac h success and security. Prosperity makes \\nus lazy. Writers like Tennessee William s and Fyodor Dostoyevsky preferred the \\nstruggle to security; the way poverty or em otional difficulties pushed them to create \\ngood work.\\n \\n \\n42. STRIKE THE SHEPHERD A ND THE SHEEP WI LL SCATTER. \\nWisdom in a nutshell: \\n• Within any group, trouble can be traced to a single source, the unhappy, \\nchronically unsatisfied one who stirs up dissension and infects the group. \\nRecognize troublemakers by their compla ining nature. Separate him from the \\ngroup. \\n• In every group power is concentrated in the hands of one or two people. Human \\nnature shows people will orbit aroun d a single strong personality. \\n \\n43. WORK ON THE HEARTS AND MINDS OF OTHERS. \\nTransgression of the Law \\nMarie-Antoinette was put to death by guilloti ne in 1793, after the French monarchy was \\nended by the revolution. Not a single soul came to her defense. Marie-Antoinette brought \\nupon herself the hatred of all. Her jewelry, wardrobe, hair, and masked balls, her lavish \\nlifestyle had been more important to her than the needs of her people. \\n  \\nWisdom in a nutshell: \\n• Aim at the primary emotions: love, hate, and jealousy. Be alert to people’s \\nindividual psychologies and thei r basic emotional responses. \\n• Maintain a stable of writers, artists,  or intellectuals who are very good at \\nappealing to people’s hearts and minds. \\n \\n44. DISARM AND INFURIATE WITH THE MIRROR EFFECT. \\nWisdom in a nutshell: \\n• The neutralizing effect: Do what your enemies do, follow their actions and they \\nwill not see what you are up to. When y ou mirror them, if mocks and humiliates \\nthem. Mimicry infuriates. \\n• The Shadow effect: Shadow your opponents’ every move, gather information, \\nand gain insight to their routines and habits without them seeing you. ', metadata={'source': '/content/Data/48lawsofpower.pdf', 'page': 15}), Document(page_content='The 48 Laws Of Power  Page 17 \\nwww.bizsum.com\\n © 2001, 2002 Copyright Busi nessSummaries.com \\n• The Mirror effect: Show you understand by reflecting their innermost feelings. \\n• The Moral effect: Teach others a lesson by giving them a taste of their own \\nmedicine. \\n• The Hallucinatory effect: offer a perfect copy of an object, place or person and \\nsee how people take the bait. \\n \\n45. PREACH THE NEED FOR CHANG E, BUT NEVER REFORM TOO \\nMUCH AT ONCE. \\nWisdom in a nutshell: \\n• Make change and reform seem like a gentle improvement on the past. People \\nare creatures of habit and the sudden change will cause some to rebel. \\n• Disguise change by dressing it in tradition. \\n \\n46. NEVER APPEAR TOO PERFECT. \\nWisdom in a nutshell: \\n• Never underestimate the power of envy. Occasionally reveal a weakness, defect, \\nor anxiety, or find new friends. It is the people in your own circle of peers who will \\nbe the first to envy your success. \\n• Envy is often a problem for people who have great natural talent. You may think \\nyou are charming people with your natural talent when in fact they are coming to \\nhate you for it. \\n• To deflect envy, employ a display of weakness, or a harmless vice. \\n• Envy is disguised sometimes as excessive  praise, or slander and criticism. Win \\nyour revenge by ignoring the envious. \\n• Reversal: Display the utmost disdain fo r those who envy you. Instead of hiding \\nyour perfection, make it obvious. Make every triumph an opportunity to make the \\nenvious squirm. \\n \\n47. DO NOT GO PAST THE MARK YOU AIMED FOR;  IN VICTORY, LEARN \\nWHEN TO STOP. \\nWisdom in a nutshell: \\n• The powerful know that the essence of strategy is controlling what comes next. \\n• There is no better time to stop and walk away than after a victory. \\n \\n48. ASSUME FORMLESSNESS. \\nWisdom in a nutshell: \\nAccept the fact that nothing is certain and no law is fixed. Be as fluid and formless as \\nwater, adapting and moving with change natu rally. The powerful are creative in \\nexpressing something new. This feminine, formless style of ruling as practiced by \\nElizabeth of England and Catherine of Russia, allows flexibility and makes subjects feel \\nless coerced. Play the chameleon but break your enemy from the inside. Morph and \\nadapt but keep your long-term strategy in mind at all times.\\n \\n ', metadata={'source': '/content/Data/48lawsofpower.pdf', 'page': 16})]\n"
          ]
        }
      ]
    },
    {
      "cell_type": "code",
      "source": [
        "text_splitter = RecursiveCharacterTextSplitter(chunk_size=256, chunk_overlap=20)\n",
        "text_chunks = text_splitter.split_documents(data)"
      ],
      "metadata": {
        "id": "eUoYuqK57EFc"
      },
      "execution_count": 8,
      "outputs": []
    },
    {
      "cell_type": "code",
      "source": [
        "len(text_chunks)"
      ],
      "metadata": {
        "colab": {
          "base_uri": "https://localhost:8080/"
        },
        "id": "LVg7ow1N7IBJ",
        "outputId": "46e3a195-42cb-47ea-9e24-a8973ed1ada0"
      },
      "execution_count": 9,
      "outputs": [
        {
          "output_type": "execute_result",
          "data": {
            "text/plain": [
              "231"
            ]
          },
          "metadata": {},
          "execution_count": 9
        }
      ]
    },
    {
      "cell_type": "code",
      "source": [
        "embeddings = HuggingFaceEmbeddings(model_name=\"sentence-transformers/all-MiniLM-L6-v2\")"
      ],
      "metadata": {
        "colab": {
          "base_uri": "https://localhost:8080/"
        },
        "id": "VBhNOQEF7KUf",
        "outputId": "6faa02a1-eaaf-4860-89b0-e0632f452544"
      },
      "execution_count": 10,
      "outputs": [
        {
          "output_type": "stream",
          "name": "stderr",
          "text": [
            "/usr/local/lib/python3.10/dist-packages/torch/_utils.py:831: UserWarning: TypedStorage is deprecated. It will be removed in the future and UntypedStorage will be the only storage class. This should only matter to you if you are using storages directly.  To access UntypedStorage directly, use tensor.untyped_storage() instead of tensor.storage()\n",
            "  return self.fget.__get__(instance, owner)()\n"
          ]
        }
      ]
    },
    {
      "cell_type": "code",
      "source": [
        "vector_store = FAISS.from_documents(text_chunks, embedding=embeddings)"
      ],
      "metadata": {
        "id": "-jM0bVol7SpX"
      },
      "execution_count": 11,
      "outputs": []
    },
    {
      "cell_type": "code",
      "source": [
        "!mkdir Model"
      ],
      "metadata": {
        "id": "IaTh1Sjc7Ztt"
      },
      "execution_count": 13,
      "outputs": []
    },
    {
      "cell_type": "code",
      "source": [
        "cd Model"
      ],
      "metadata": {
        "colab": {
          "base_uri": "https://localhost:8080/"
        },
        "id": "R9HfoTTz8lTe",
        "outputId": "7519bc40-cb8b-4c9a-c8c0-a689444ad56c"
      },
      "execution_count": 14,
      "outputs": [
        {
          "output_type": "stream",
          "name": "stdout",
          "text": [
            "/content/Model\n"
          ]
        }
      ]
    },
    {
      "cell_type": "code",
      "source": [
        "!wget https://huggingface.co/TheBloke/Mistral-7B-Instruct-v0.1-GGUF/resolve/main/mistral-7b-instruct-v0.1.Q4_K_M.gguf?download=true"
      ],
      "metadata": {
        "colab": {
          "base_uri": "https://localhost:8080/"
        },
        "id": "etupZ0l78nhn",
        "outputId": "d9be0a73-bf57-4da5-803c-a1219f829875"
      },
      "execution_count": 15,
      "outputs": [
        {
          "output_type": "stream",
          "name": "stdout",
          "text": [
            "--2024-01-27 16:42:25--  https://huggingface.co/TheBloke/Mistral-7B-Instruct-v0.1-GGUF/resolve/main/mistral-7b-instruct-v0.1.Q4_K_M.gguf?download=true\n",
            "Resolving huggingface.co (huggingface.co)... 18.172.134.4, 18.172.134.88, 18.172.134.24, ...\n",
            "Connecting to huggingface.co (huggingface.co)|18.172.134.4|:443... connected.\n",
            "HTTP request sent, awaiting response... 302 Found\n",
            "Location: https://cdn-lfs.huggingface.co/repos/46/12/46124cd8d4788fd8e0879883abfc473f247664b987955cc98a08658f7df6b826/14466f9d658bf4a79f96c3f3f22759707c291cac4e62fea625e80c7d32169991?response-content-disposition=attachment%3B+filename*%3DUTF-8%27%27mistral-7b-instruct-v0.1.Q4_K_M.gguf%3B+filename%3D%22mistral-7b-instruct-v0.1.Q4_K_M.gguf%22%3B&Expires=1706632945&Policy=eyJTdGF0ZW1lbnQiOlt7IkNvbmRpdGlvbiI6eyJEYXRlTGVzc1RoYW4iOnsiQVdTOkVwb2NoVGltZSI6MTcwNjYzMjk0NX19LCJSZXNvdXJjZSI6Imh0dHBzOi8vY2RuLWxmcy5odWdnaW5nZmFjZS5jby9yZXBvcy80Ni8xMi80NjEyNGNkOGQ0Nzg4ZmQ4ZTA4Nzk4ODNhYmZjNDczZjI0NzY2NGI5ODc5NTVjYzk4YTA4NjU4ZjdkZjZiODI2LzE0NDY2ZjlkNjU4YmY0YTc5Zjk2YzNmM2YyMjc1OTcwN2MyOTFjYWM0ZTYyZmVhNjI1ZTgwYzdkMzIxNjk5OTE%7EcmVzcG9uc2UtY29udGVudC1kaXNwb3NpdGlvbj0qIn1dfQ__&Signature=R5DqkpZRv%7ESIEhK%7ENHtldsRDQbBCBjcLTE0zVVS80dVwt8IkAl5YVqsB3CiN1ajP9BnJptvSXBs-JVav1AaaEUbXxrinW2cs-K8ptR8t52ei%7EcZpp3SCBYC7PkDLfEACjsP4tjKHo3q09igt%7EA3UHOegdtAjjl24oToX%7Erd37-4e0XVWU5lwiE2Hc4c4xNrSSnW20TTbHS0bkL8ddpOS3mCgSrX4gvPlaOuxCeI4zDQLWmqCWRdi6p5PLFW-Mo-JlMNSmcDcgyYp5Lj-kbo8NVBbfPk3MKepgZyCAOrSldtQ1Y9qgyrsM3Lr1CQo-yQSxX%7EyNig0a7dIpnpnAruVGA__&Key-Pair-Id=KVTP0A1DKRTAX [following]\n",
            "--2024-01-27 16:42:25--  https://cdn-lfs.huggingface.co/repos/46/12/46124cd8d4788fd8e0879883abfc473f247664b987955cc98a08658f7df6b826/14466f9d658bf4a79f96c3f3f22759707c291cac4e62fea625e80c7d32169991?response-content-disposition=attachment%3B+filename*%3DUTF-8%27%27mistral-7b-instruct-v0.1.Q4_K_M.gguf%3B+filename%3D%22mistral-7b-instruct-v0.1.Q4_K_M.gguf%22%3B&Expires=1706632945&Policy=eyJTdGF0ZW1lbnQiOlt7IkNvbmRpdGlvbiI6eyJEYXRlTGVzc1RoYW4iOnsiQVdTOkVwb2NoVGltZSI6MTcwNjYzMjk0NX19LCJSZXNvdXJjZSI6Imh0dHBzOi8vY2RuLWxmcy5odWdnaW5nZmFjZS5jby9yZXBvcy80Ni8xMi80NjEyNGNkOGQ0Nzg4ZmQ4ZTA4Nzk4ODNhYmZjNDczZjI0NzY2NGI5ODc5NTVjYzk4YTA4NjU4ZjdkZjZiODI2LzE0NDY2ZjlkNjU4YmY0YTc5Zjk2YzNmM2YyMjc1OTcwN2MyOTFjYWM0ZTYyZmVhNjI1ZTgwYzdkMzIxNjk5OTE%7EcmVzcG9uc2UtY29udGVudC1kaXNwb3NpdGlvbj0qIn1dfQ__&Signature=R5DqkpZRv%7ESIEhK%7ENHtldsRDQbBCBjcLTE0zVVS80dVwt8IkAl5YVqsB3CiN1ajP9BnJptvSXBs-JVav1AaaEUbXxrinW2cs-K8ptR8t52ei%7EcZpp3SCBYC7PkDLfEACjsP4tjKHo3q09igt%7EA3UHOegdtAjjl24oToX%7Erd37-4e0XVWU5lwiE2Hc4c4xNrSSnW20TTbHS0bkL8ddpOS3mCgSrX4gvPlaOuxCeI4zDQLWmqCWRdi6p5PLFW-Mo-JlMNSmcDcgyYp5Lj-kbo8NVBbfPk3MKepgZyCAOrSldtQ1Y9qgyrsM3Lr1CQo-yQSxX%7EyNig0a7dIpnpnAruVGA__&Key-Pair-Id=KVTP0A1DKRTAX\n",
            "Resolving cdn-lfs.huggingface.co (cdn-lfs.huggingface.co)... 18.154.185.27, 18.154.185.64, 18.154.185.94, ...\n",
            "Connecting to cdn-lfs.huggingface.co (cdn-lfs.huggingface.co)|18.154.185.27|:443... connected.\n",
            "HTTP request sent, awaiting response... 200 OK\n",
            "Length: 4368438944 (4.1G) [binary/octet-stream]\n",
            "Saving to: ‘mistral-7b-instruct-v0.1.Q4_K_M.gguf?download=true’\n",
            "\n",
            "mistral-7b-instruct 100%[===================>]   4.07G   183MB/s    in 21s     \n",
            "\n",
            "2024-01-27 16:42:46 (194 MB/s) - ‘mistral-7b-instruct-v0.1.Q4_K_M.gguf?download=true’ saved [4368438944/4368438944]\n",
            "\n"
          ]
        }
      ]
    },
    {
      "cell_type": "code",
      "source": [
        "cd .."
      ],
      "metadata": {
        "colab": {
          "base_uri": "https://localhost:8080/"
        },
        "id": "KGJ1eNJN8-LK",
        "outputId": "ca3df655-5f82-4338-bd16-bd2d56f97396"
      },
      "execution_count": 16,
      "outputs": [
        {
          "output_type": "stream",
          "name": "stdout",
          "text": [
            "/content\n"
          ]
        }
      ]
    },
    {
      "cell_type": "code",
      "source": [],
      "metadata": {
        "id": "xcw2Rm75BZ-H"
      },
      "execution_count": 16,
      "outputs": []
    },
    {
      "cell_type": "code",
      "source": [
        "llm = LlamaCpp(\n",
        "    streaming = True,\n",
        "    model_path=\"/content/Model/mistral-7b-instruct-v0.1.Q4_K_M.gguf?download=true\",\n",
        "    temperature=0.75,\n",
        "    top_p=1,\n",
        "    verbose=True,\n",
        "    n_ctx=4096,\n",
        "    n_gpu_layers = -1\n",
        ")"
      ],
      "metadata": {
        "colab": {
          "base_uri": "https://localhost:8080/"
        },
        "id": "nlLeWORu7Z60",
        "outputId": "17f17359-90da-44a9-a5f2-2d963faf5114"
      },
      "execution_count": 12,
      "outputs": [
        {
          "output_type": "stream",
          "name": "stderr",
          "text": [
            "AVX = 1 | AVX_VNNI = 0 | AVX2 = 1 | AVX512 = 0 | AVX512_VBMI = 0 | AVX512_VNNI = 0 | FMA = 1 | NEON = 0 | ARM_FMA = 0 | F16C = 1 | FP16_VA = 0 | WASM_SIMD = 0 | BLAS = 1 | SSE3 = 1 | SSSE3 = 1 | VSX = 0 | \n",
            "Model metadata: {'tokenizer.ggml.unknown_token_id': '0', 'tokenizer.ggml.eos_token_id': '2', 'general.architecture': 'llama', 'llama.rope.freq_base': '10000.000000', 'llama.context_length': '32768', 'general.name': 'mistralai_mistral-7b-instruct-v0.1', 'llama.embedding_length': '4096', 'llama.feed_forward_length': '14336', 'llama.attention.layer_norm_rms_epsilon': '0.000010', 'llama.rope.dimension_count': '128', 'tokenizer.ggml.bos_token_id': '1', 'llama.attention.head_count': '32', 'llama.block_count': '32', 'llama.attention.head_count_kv': '8', 'general.quantization_version': '2', 'tokenizer.ggml.model': 'llama', 'general.file_type': '15'}\n"
          ]
        }
      ]
    },
    {
      "cell_type": "code",
      "source": [
        "qa = RetrievalQA.from_chain_type(llm=llm, chain_type=\"stuff\", retriever=vector_store.as_retriever(search_kwargs={\"k\": 5}))"
      ],
      "metadata": {
        "id": "97QSiIMi7U95"
      },
      "execution_count": 13,
      "outputs": []
    },
    {
      "cell_type": "code",
      "source": [
        "query = \"Can you tell me the story of Queen Elizabeth?\""
      ],
      "metadata": {
        "id": "cMNt2HjS9gvv"
      },
      "execution_count": 14,
      "outputs": []
    },
    {
      "cell_type": "code",
      "source": [
        "ans = qa.invoke(query)"
      ],
      "metadata": {
        "id": "8Opv6_W89mi-"
      },
      "execution_count": 15,
      "outputs": []
    },
    {
      "cell_type": "code",
      "source": [
        "ans['result']"
      ],
      "metadata": {
        "colab": {
          "base_uri": "https://localhost:8080/",
          "height": 88
        },
        "id": "yrbbrakB1ElR",
        "outputId": "5c693982-5d7f-4667-ab11-e647e2dc55cf"
      },
      "execution_count": 16,
      "outputs": [
        {
          "output_type": "execute_result",
          "data": {
            "text/plain": [
              "\" Yes, Queen Elizabeth I managed to avoid marriage and war by dangling the possibility of marriage to all who courted her. She forged alliances with the countries these suitors came from, all for the benefit of England. By keeping her independence above all, Elizabeth protected her power and made herself an object of worship. She ruled until the age of eighty when she was forced to abdicate. Throughout her rule, she eliminated son after son, anyone who would challenge her throne. Cleopatra, the queen of Egypt, played her siblings against each other and seduced Marc Antony, having her younger sister Arsinoe executed in the process. After the emperor's death, Wu Zetian, a concubine of his, seduced his son in the royal urinal and befriended his wife, allowing her to get a royal position.\""
            ],
            "application/vnd.google.colaboratory.intrinsic+json": {
              "type": "string"
            }
          },
          "metadata": {},
          "execution_count": 16
        }
      ]
    },
    {
      "cell_type": "code",
      "source": [
        "!pip install gradio --use-deprecated=legacy-resolver"
      ],
      "metadata": {
        "id": "NOHn6kX_0kY7"
      },
      "execution_count": null,
      "outputs": []
    },
    {
      "cell_type": "code",
      "source": [],
      "metadata": {
        "id": "hYmhSstT4szw"
      },
      "execution_count": null,
      "outputs": []
    },
    {
      "cell_type": "code",
      "source": [
        "import gradio as gr\n",
        "\n",
        "def greet(query):\n",
        "    ans = qa.invoke(query)\n",
        "    return ans['result']\n",
        "\n",
        "demo = gr.Interface(fn=greet, inputs=\"textbox\", outputs=\"textbox\")\n",
        "\n",
        "if __name__ == \"__main__\":\n",
        "    demo.launch(share=True)"
      ],
      "metadata": {
        "colab": {
          "base_uri": "https://localhost:8080/",
          "height": 591
        },
        "id": "bvOKPNcC0pSK",
        "outputId": "6b983e4b-88c1-46d8-928e-2d2f622e513a"
      },
      "execution_count": 18,
      "outputs": [
        {
          "output_type": "stream",
          "name": "stdout",
          "text": [
            "Colab notebook detected. To show errors in colab notebook, set debug=True in launch()\n",
            "Running on public URL: https://5c3f86cfa4b493fee3.gradio.live\n",
            "\n",
            "This share link expires in 72 hours. For free permanent hosting and GPU upgrades, run `gradio deploy` from Terminal to deploy to Spaces (https://huggingface.co/spaces)\n"
          ]
        },
        {
          "output_type": "display_data",
          "data": {
            "text/plain": [
              "<IPython.core.display.HTML object>"
            ],
            "text/html": [
              "<div><iframe src=\"https://5c3f86cfa4b493fee3.gradio.live\" width=\"100%\" height=\"500\" allow=\"autoplay; camera; microphone; clipboard-read; clipboard-write;\" frameborder=\"0\" allowfullscreen></iframe></div>"
            ]
          },
          "metadata": {}
        }
      ]
    },
    {
      "cell_type": "code",
      "source": [],
      "metadata": {
        "id": "bPoCVgrR2xIN"
      },
      "execution_count": null,
      "outputs": []
    }
  ]
}